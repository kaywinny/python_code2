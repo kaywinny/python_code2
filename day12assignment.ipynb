{
 "cells": [
  {
   "cell_type": "code",
   "execution_count": 6,
   "metadata": {},
   "outputs": [
    {
     "name": "stdout",
     "output_type": "stream",
     "text": [
      "brand:Mercesdes Benz\n",
      "model:GLS Class\n",
      "color:Maroon\n",
      "year_of_release:2015\n",
      "speed:222\n",
      " \n",
      "None\n",
      "\n",
      "\n",
      "Mercesdes Benz GLS Class has started\n",
      "None\n",
      "\n",
      "\n"
     ]
    },
    {
     "name": "stdin",
     "output_type": "stream",
     "text": [
      "please choose a gear: 4\n"
     ]
    },
    {
     "name": "stdout",
     "output_type": "stream",
     "text": [
      "Not applicable\n",
      "None\n",
      "\n",
      "\n"
     ]
    },
    {
     "name": "stdin",
     "output_type": "stream",
     "text": [
      "please choose an option: 2\n"
     ]
    },
    {
     "name": "stdout",
     "output_type": "stream",
     "text": [
      "nitro off\n",
      "None\n",
      "\n",
      "\n",
      "GLS Class Mercesdes Benz has come to an end\n",
      "None\n",
      "\n",
      "\n"
     ]
    }
   ],
   "source": [
    "class car_racing_game:\n",
    "    def __init__(self,brand,model,color,year,speed):\n",
    "        self.brand=brand\n",
    "        self.model=model\n",
    "        self.color=color\n",
    "        self.year=year\n",
    "        self.speed=speed\n",
    "    def details(self):\n",
    "        print(f'''brand:{self.brand}\n",
    "model:{self.model}\n",
    "color:{self.color}\n",
    "year_of_release:{self.year}\n",
    "speed:{self.speed}\n",
    " ''')\n",
    "      \n",
    "    def start(self):\n",
    "          print(f'{self.brand} {self.model} has started')\n",
    "    def gear(self):\n",
    "        choice=int(input('please choose a gear:')\n",
    "        if choice==1:\n",
    "            print('you have successfully changed to gear 1')\n",
    "        elif choice==2:\n",
    "            print('you have successfully changed to gear 2')\n",
    "        elif choice==3:\n",
    "            print('you have successfully changed to gear 3')\n",
    "        elif choice==4:\n",
    "             print('you have successfully changed to gear 4')\n",
    "        elif choice==5:\n",
    "             print('you have succesfully changed to gear 5')\n",
    "        elif choice==6:\n",
    "             print('you have successfully put your gear on reverse')\n",
    "        else:\n",
    "            print('Not applicable')\n",
    "        \n",
    "    def nitro(self):\n",
    "        choice=int(input('please choose an option:'))\n",
    "        if choice==1:\n",
    "            print('nitro engaged')\n",
    "        elif choice==2:\n",
    "             print('nitro off')\n",
    "    def stop(self):\n",
    "        print(f'{self.model} {self.brand} has come to an end')\n",
    "first_car=car_racing_game('Mercesdes Benz','GLS Class','Maroon',2015,222)\n",
    "print(first_car.details())\n",
    "print('\\n')\n",
    "print(first_car.start())\n",
    "print('\\n')\n",
    "print(first_car.gear())\n",
    "print('\\n')\n",
    "print(first_car.nitro())\n",
    "print('\\n')\n",
    "print(first_car.stop())\n",
    "print('\\n')"
   ]
  },
  {
   "cell_type": "code",
   "execution_count": 8,
   "metadata": {},
   "outputs": [
    {
     "ename": "IndentationError",
     "evalue": "unindent does not match any outer indentation level (<tokenize>, line 4)",
     "output_type": "error",
     "traceback": [
      "\u001b[1;36m  File \u001b[1;32m\"<tokenize>\"\u001b[1;36m, line \u001b[1;32m4\u001b[0m\n\u001b[1;33m    if choice==1:\u001b[0m\n\u001b[1;37m    ^\u001b[0m\n\u001b[1;31mIndentationError\u001b[0m\u001b[1;31m:\u001b[0m unindent does not match any outer indentation level\n"
     ]
    }
   ],
   "source": [
    "class sub_game(car_racing_game)\n",
    "    def open_trunk(self):\n",
    "         choice=int(input('Pick an option:'))\n",
    "            =1:\n",
    "            print('Trunk is opened')\n",
    "        elif choice==2\n",
    "            print('Trunk Closed')\n",
    "secondcar=sub_game('Ferrari','RL500','Yellow',2021,300)\n",
    "print(secondcar.start)\n",
    "                   \n",
    "        "
   ]
  },
  {
   "cell_type": "code",
   "execution_count": null,
   "metadata": {},
   "outputs": [],
   "source": []
  }
 ],
 "metadata": {
  "kernelspec": {
   "display_name": "Python 3",
   "language": "python",
   "name": "python3"
  },
  "language_info": {
   "codemirror_mode": {
    "name": "ipython",
    "version": 3
   },
   "file_extension": ".py",
   "mimetype": "text/x-python",
   "name": "python",
   "nbconvert_exporter": "python",
   "pygments_lexer": "ipython3",
   "version": "3.8.3"
  }
 },
 "nbformat": 4,
 "nbformat_minor": 5
}
